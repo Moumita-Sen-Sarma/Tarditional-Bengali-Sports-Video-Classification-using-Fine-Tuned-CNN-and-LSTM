{
 "cells": [
  {
   "cell_type": "markdown",
   "metadata": {
    "id": "nXbhql_CKkKR"
   },
   "source": [
    "### capture required trained model\n",
    "\n",
    "\n"
   ]
  },
  {
   "cell_type": "code",
   "execution_count": null,
   "metadata": {
    "id": "so0uS-9HjwQk"
   },
   "outputs": [],
   "source": [
    "!pip install keras-video-generators\n",
    "\n",
    "import numpy as np\n",
    "import tensorflow as tf\n",
    "from keras.applications import VGG16\n",
    "from keras import models\n",
    "from keras_video import VideoFrameGenerator\n",
    "from keras.preprocessing.image import load_img, img_to_array\n",
    "from keras.applications.vgg16 import preprocess_input\n",
    "import pickle\n",
    "from keras.preprocessing.text import Tokenizer\n",
    "from keras.preprocessing.sequence import pad_sequences\n",
    "from tensorflow.keras.models import model_from_json\n",
    "import matplotlib.pyplot as plt\n",
    "from tensorflow.keras.models import model_from_json\n",
    "tf.compat.v1.logging.set_verbosity(tf.compat.v1.logging.ERROR)\n",
    "\n",
    "model_path = 'model.json' # the path of json file of trained model\n",
    "weight_path = 'model_weights.h5' # the path of weight file of trained model\n",
    "\n",
    "cls={'Boli_Khela':0, 'Kabaddi':1 ,'Kho Kho':2, 'Lathi Khela':3, 'Nouka Baich':4} # categorical values of classes of the dataset\n",
    "\n",
    "\n",
    "def get_frames(filename):\n",
    "  SIZE = (128, 128)\n",
    "  CHANNELS = 3\n",
    "  NBFRAME = 20\n",
    "  data_aug = tf.keras.preprocessing.image.ImageDataGenerator(rescale=1./255)\n",
    "  test=VideoFrameGenerator(glob_pattern=filename,nb_frames=NBFRAME,shuffle=False, batch_size=1, \n",
    "                           target_shape=SIZE, transformation=data_aug, use_frame_cache=False)\n",
    "  return test\n",
    "\n",
    "def get_model(model_path,weight_path):  \n",
    "  json_file = open(model_path, 'r')\n",
    "  loaded_model_json = json_file.read()\n",
    "  json_file.close()\n",
    "  loaded_model = model_from_json(loaded_model_json)\n",
    "  # load weights into new model\n",
    "  loaded_model.load_weights(weight_path)\n",
    "  return loaded_model\n",
    "\n"
   ]
  },
  {
   "cell_type": "markdown",
   "metadata": {
    "id": "R7ekUr_1In77"
   },
   "source": [
    "### Predict function"
   ]
  },
  {
   "cell_type": "code",
   "execution_count": null,
   "metadata": {
    "id": "OlEnfXKIIm0U"
   },
   "outputs": [],
   "source": [
    "\n",
    "def predict_class(filename, model_path=model_path, weight_path=weight_path,classes=cls):\n",
    "    video_frames = get_frames(filename)\n",
    "    model=get_model(model_path,weight_path)\n",
    "    Y_pred = model.predict_generator(video_frames, 1)\n",
    "    y_pred = np.argmax(Y_pred, axis=1)\n",
    "    label = [k for k, v in classes.items() if v == y_pred[0]][0]\n",
    "    return label"
   ]
  },
  {
   "cell_type": "markdown",
   "metadata": {
    "id": "GocjDCLZKpuR"
   },
   "source": [
    "## flask webpage"
   ]
  },
  {
   "cell_type": "code",
   "execution_count": null,
   "metadata": {},
   "outputs": [],
   "source": [
    "!mkdir \"static/uploads\""
   ]
  },
  {
   "cell_type": "code",
   "execution_count": 4,
   "metadata": {
    "colab": {
     "base_uri": "https://localhost:8080/",
     "height": 34
    },
    "id": "beNo3Ow8yjl4",
    "outputId": "a3eceba0-c3b6-4170-f81b-590637134039"
   },
   "outputs": [
    {
     "name": "stdout",
     "output_type": "stream",
     "text": [
      "https://tq6jpkvb9f-496ff2e9c6d22116-5000-colab.googleusercontent.com/\n"
     ]
    }
   ],
   "source": [
    "from google.colab.output import eval_js\n",
    "print(eval_js(\"google.colab.kernel.proxyPort(5000)\"))\n",
    "# click the generated link while running the next cell"
   ]
  },
  {
   "cell_type": "code",
   "execution_count": null,
   "metadata": {
    "id": "nXQXemBmCVJa"
   },
   "outputs": [],
   "source": [
    "import os\n",
    "# from app import app\n",
    "import urllib.request\n",
    "from flask import Flask, flash, request, redirect, url_for, render_template\n",
    "from werkzeug.utils import secure_filename\n",
    "from flask import Flask\n",
    "\n",
    "UPLOAD_FOLDER = 'static/uploads/'\n",
    "\n",
    "app = Flask(__name__)\n",
    "app.secret_key = \"secret key\"\n",
    "app.config['UPLOAD_FOLDER'] = UPLOAD_FOLDER\n",
    "app.config['MAX_CONTENT_LENGTH'] = 16 * 1024 * 1024\n",
    "\n",
    "\n",
    "ALLOWED_EXTENSIONS = set(['mp4', 'avi'])\n",
    "\n",
    "def allowed_file(filename):\n",
    "\treturn '.' in filename and filename.rsplit('.', 1)[1].lower() in ALLOWED_EXTENSIONS\n",
    "\t\n",
    "@app.route('/')\n",
    "def upload_form():\n",
    "\treturn render_template('new_template.html')\n",
    "\n",
    "def get_class(filename):\n",
    "  path='/content/static/uploads/'\n",
    "  cls=predict_class(path+filename)\n",
    "  return cls\n",
    "\n",
    "@app.route('/', methods=['POST'])\n",
    "def upload_video():\n",
    "    if 'file' not in request.files:\n",
    "        flash('No file part')\n",
    "        return render_template('new_template.html')\n",
    "    file = request.files['file']\n",
    "    if file.filename == '':\n",
    "        flash('No video selected for uploading')\n",
    "        return render_template('new_template.html')\n",
    "    if file and allowed_file(file.filename):\n",
    "        filename = secure_filename(file.filename)\n",
    "        file.save(os.path.join(app.config['UPLOAD_FOLDER'], filename))\n",
    "        flash('Video is successfully uploaded and displayed below')\n",
    "        cls=get_class(filename)\n",
    "        return render_template('new_template.html', filename=filename, cls='Class Label: '+cls)\n",
    "\n",
    "    else:\n",
    "        \n",
    "        flash('Allowed video types are -> mp4, avi')\n",
    "       \n",
    "        return render_template('new_template.html')\n",
    "\n",
    "if __name__ == \"__main__\":\n",
    "    app.run()"
   ]
  }
 ],
 "metadata": {
  "accelerator": "GPU",
  "colab": {
   "collapsed_sections": [],
   "name": "TBSV flask_deployment",
   "provenance": []
  },
  "kernelspec": {
   "display_name": "Python 3",
   "language": "python",
   "name": "python3"
  },
  "language_info": {
   "codemirror_mode": {
    "name": "ipython",
    "version": 3
   },
   "file_extension": ".py",
   "mimetype": "text/x-python",
   "name": "python",
   "nbconvert_exporter": "python",
   "pygments_lexer": "ipython3",
   "version": "3.6.5"
  }
 },
 "nbformat": 4,
 "nbformat_minor": 1
}
